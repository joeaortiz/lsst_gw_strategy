{
 "cells": [
  {
   "cell_type": "markdown",
   "metadata": {},
   "source": [
    "The aim of this investigation is to find the fraction of events that are observed within 24 hours."
   ]
  },
  {
   "cell_type": "markdown",
   "metadata": {},
   "source": [
    "libid_details['LIBID:', 'RA:', 'DECL:', 'NOBS:', 'MWEBV:', 'PIXSIZE:', 'first observation index', 'last observation index']\n",
    "\n",
    "pointings = [LIBID, RA, DECL, MJD IDEXPT  FLT GAIN NOISE SKYSIG (pixels)  RATIO  ZPTAVG ZPTERR  MAG]"
   ]
  },
  {
   "cell_type": "code",
   "execution_count": 1,
   "metadata": {
    "collapsed": true
   },
   "outputs": [],
   "source": [
    "#import pointings \n",
    "from parse_simlib import parse_simlib\n",
    "\n",
    "libid_details, pointings = parse_simlib('../minion_1016_WFD.simlib')"
   ]
  },
  {
   "cell_type": "code",
   "execution_count": 18,
   "metadata": {
    "collapsed": false
   },
   "outputs": [
    {
     "name": "stdout",
     "output_type": "stream",
     "text": [
      "[[  6.17753400e+04   6.90160900e+01  -5.85892330e+01]\n",
      " [  6.10670430e+04   1.16863968e+02  -5.08599170e+01]\n",
      " [  6.24793240e+04   1.57593414e+02  -4.21845890e+01]\n",
      " [  6.22443280e+04   1.87015884e+02  -3.69101140e+01]\n",
      " [  5.98204410e+04   3.16984100e+02  -3.69100000e+01]]\n"
     ]
    }
   ],
   "source": [
    "import numpy as np\n",
    "import os\n",
    "\n",
    "from python_utilities.des_io import parse_observations\n",
    "\n",
    "def load_KN_locs(DIR): #load locations and times of all DAT files for KN in given directory \n",
    "    file_count = len([f for f in os.walk(DIR).next()[2] if f[-4:] == \".DAT\"])\n",
    "    KN_locations = np.zeros([file_count, 3])\n",
    "\n",
    "    file_num = 0\n",
    "    for file in os.listdir(DIR):  # run through all .dat files in the specified directory\n",
    "        if file.endswith(\".DAT\"):\n",
    "            obs, headerdict = parse_observations(DIR + file)\n",
    "            KN_locations[file_num,:] = [headerdict['PEAKMJD'], headerdict['RA'], headerdict['DECL']]\n",
    "            file_num += 1\n",
    "    return KN_locations\n",
    "\n",
    "KN_locations = load_KN_locs('../GW170817_AT2017gfo_LSST_WFD/')\n",
    "            \n",
    "print KN_locations[0:5]"
   ]
  },
  {
   "cell_type": "code",
   "execution_count": 15,
   "metadata": {
    "collapsed": false
   },
   "outputs": [
    {
     "data": {
      "text/plain": [
       "(10.930732422071442, 3.0)"
      ]
     },
     "execution_count": 15,
     "metadata": {},
     "output_type": "execute_result"
    }
   ],
   "source": [
    "from astropy import units as u\n",
    "from astropy.coordinates import SkyCoord\n",
    "import scipy\n",
    "\n",
    "#for each mjd find all pointings in the next 24 hours and find min separation, don't care about the band\n",
    "def min_separation_24hours(event):\n",
    "    #get pointings in the next 24 hours\n",
    "    pointings_later = pointings[event[0]<pointings[:,3], :]\n",
    "    pointings_next24 = pointings_later[pointings_later[:,3]<(event[0]+1)]\n",
    "    \n",
    "    #get angular separation of the pointings to the KN\n",
    "    kilonova_loc = SkyCoord(ra=event[1] * u.degree, dec=event[2] * u.degree)\n",
    "    pointings_locs = SkyCoord(ra=pointings_next24[:,1] * u.degree, dec=pointings_next24[:,2] * u.degree)\n",
    "    angsep = kilonova_loc.separation(pointings_locs)\n",
    "    \n",
    "    #get min separation and the band of that observation\n",
    "    if len(angsep.deg) !=0:\n",
    "        min_sep = np.min(angsep.deg)\n",
    "        band = pointings_next24[np.argmin(angsep.deg), 5]\n",
    "    else: \n",
    "        min_sep = np.nan\n",
    "        band = np.nan\n",
    "    return min_sep, band\n",
    "\n",
    "min_separation_24hours(KN_locations[0,:])"
   ]
  },
  {
   "cell_type": "code",
   "execution_count": 19,
   "metadata": {
    "collapsed": false
   },
   "outputs": [
    {
     "name": "stdout",
     "output_type": "stream",
     "text": [
      "0.593103448276\n"
     ]
    }
   ],
   "source": [
    "#get metric for fraction of KN observed in next 24 hours\n",
    "count_observed = 0\n",
    "for num, KNlocation in enumerate(KN_locations):\n",
    "    min_sep, band = min_separation_24hours(KNlocation)\n",
    "\n",
    "    if min_sep != np.nan:\n",
    "        if min_sep < np.sqrt(3):\n",
    "            count_observed +=1 \n",
    "\n",
    "fraction_observed = float(count_observed)/len(KN_locations)\n",
    "print fraction_observed"
   ]
  },
  {
   "cell_type": "code",
   "execution_count": 67,
   "metadata": {
    "collapsed": false
   },
   "outputs": [
    {
     "name": "stdout",
     "output_type": "stream",
     "text": [
      "0.744827586207\n"
     ]
    }
   ],
   "source": []
  }
 ],
 "metadata": {
  "kernelspec": {
   "display_name": "Python 2",
   "language": "python",
   "name": "python2"
  },
  "language_info": {
   "codemirror_mode": {
    "name": "ipython",
    "version": 2
   },
   "file_extension": ".py",
   "mimetype": "text/x-python",
   "name": "python",
   "nbconvert_exporter": "python",
   "pygments_lexer": "ipython2",
   "version": "2.7.11"
  }
 },
 "nbformat": 4,
 "nbformat_minor": 0
}
