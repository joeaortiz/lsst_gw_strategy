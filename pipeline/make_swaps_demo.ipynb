{
 "cells": [
  {
   "cell_type": "markdown",
   "metadata": {},
   "source": [
    "# Demo of making swaps to simlib"
   ]
  },
  {
   "cell_type": "code",
   "execution_count": 4,
   "metadata": {
    "collapsed": false
   },
   "outputs": [],
   "source": [
    "import numpy as np\n",
    "import random\n",
    "from astropy import units as u\n",
    "from astropy.coordinates import SkyCoord\n",
    "import scipy\n",
    "import os\n",
    "import subprocess\n",
    "import matplotlib.pylab as plt\n",
    "import logging\n",
    "%matplotlib inline\n",
    "\n",
    "os.chdir('/data/des41.a/data/jaortiz/snana-test/pipeline/')\n",
    "from make_histograms import make_histogram_vars\n",
    "from make_histograms import plot_histogram\n",
    "from amake_swaps_arr import amake_swaps\n",
    "# from make_swaps_arr import whisker_plot\n",
    "from parse_dump import findall_KN \n",
    "from make_simlib import make_simlib\n",
    "\n",
    "from parse_simlib import parse_simlib\n",
    "from python_utilities.des_io import parse_observations"
   ]
  },
  {
   "cell_type": "markdown",
   "metadata": {},
   "source": [
    "## Define variables for the swap algorithm"
   ]
  },
  {
   "cell_type": "code",
   "execution_count": 5,
   "metadata": {
    "collapsed": true
   },
   "outputs": [],
   "source": [
    "#variables\n",
    "t1 = 2.5 #time period in which we want pointing at KN to occur (days)\n",
    "t2 = 50 #time period in which we are happy to do compensating swap (days)\n",
    "max_airmass = 2\n",
    "max_extra_slew = 30 #in deg"
   ]
  },
  {
   "cell_type": "markdown",
   "metadata": {},
   "source": [
    "## Parse the simlib file to get an array containing all of the pointings"
   ]
  },
  {
   "cell_type": "code",
   "execution_count": 10,
   "metadata": {
    "collapsed": true
   },
   "outputs": [],
   "source": [
    "os.chdir('/data/des41.a/data/jaortiz/snana-test/')\n",
    "\n",
    "libid_details, pointings_arr = parse_simlib('simlibs/minion_1016_WFD.simlib')"
   ]
  },
  {
   "cell_type": "markdown",
   "metadata": {},
   "source": [
    "## Run script to made swaps to pointings array"
   ]
  },
  {
   "cell_type": "code",
   "execution_count": 11,
   "metadata": {
    "collapsed": false,
    "scrolled": true
   },
   "outputs": [
    {
     "name": "stdout",
     "output_type": "stream",
     "text": [
      "2.5 50 2 30\n"
     ]
    },
    {
     "ename": "OSError",
     "evalue": "[Errno 2] No such file or directory: '/data/des41.b/data/SNDATA_ROOT/SIM/GW170817_AT2017gfo_LSST_WFD/'",
     "output_type": "error",
     "traceback": [
      "\u001b[1;31m\u001b[0m",
      "\u001b[1;31mOSError\u001b[0mTraceback (most recent call last)",
      "\u001b[1;32m<ipython-input-11-c54c79c09f27>\u001b[0m in \u001b[0;36m<module>\u001b[1;34m()\u001b[0m\n\u001b[1;32m----> 1\u001b[1;33m \u001b[0mnew_pointings_arr\u001b[0m\u001b[1;33m,\u001b[0m \u001b[0mdata\u001b[0m\u001b[1;33m,\u001b[0m \u001b[0mcosts\u001b[0m\u001b[1;33m,\u001b[0m \u001b[0msuccess\u001b[0m \u001b[1;33m=\u001b[0m \u001b[0mamake_swaps\u001b[0m\u001b[1;33m(\u001b[0m\u001b[0mt1\u001b[0m\u001b[1;33m,\u001b[0m \u001b[0mt2\u001b[0m\u001b[1;33m,\u001b[0m \u001b[0mmax_airmass\u001b[0m\u001b[1;33m,\u001b[0m \u001b[0mmax_extra_slew\u001b[0m\u001b[1;33m,\u001b[0m \u001b[0mpointings_arr\u001b[0m\u001b[1;33m)\u001b[0m\u001b[1;33m\u001b[0m\u001b[0m\n\u001b[0m\u001b[0;32m      2\u001b[0m \u001b[1;33m\u001b[0m\u001b[0m\n\u001b[0;32m      3\u001b[0m \u001b[0mfolder\u001b[0m \u001b[1;33m=\u001b[0m \u001b[0mstr\u001b[0m\u001b[1;33m(\u001b[0m\u001b[0mt1\u001b[0m\u001b[1;33m)\u001b[0m \u001b[1;33m+\u001b[0m \u001b[1;34m'_'\u001b[0m \u001b[1;33m+\u001b[0m \u001b[0mstr\u001b[0m\u001b[1;33m(\u001b[0m\u001b[0mt2\u001b[0m\u001b[1;33m)\u001b[0m \u001b[1;33m+\u001b[0m \u001b[1;34m'_'\u001b[0m \u001b[1;33m+\u001b[0m \u001b[0mstr\u001b[0m\u001b[1;33m(\u001b[0m\u001b[0mmax_airmass\u001b[0m\u001b[1;33m)\u001b[0m \u001b[1;33m+\u001b[0m \u001b[1;34m'_'\u001b[0m \u001b[1;33m+\u001b[0m \u001b[0mstr\u001b[0m\u001b[1;33m(\u001b[0m\u001b[0mmax_extra_slew\u001b[0m\u001b[1;33m)\u001b[0m\u001b[1;33m\u001b[0m\u001b[0m\n\u001b[0;32m      4\u001b[0m \u001b[1;33m\u001b[0m\u001b[0m\n\u001b[0;32m      5\u001b[0m \u001b[1;31m#Save simlib file under new name for different variables and then change .input file\u001b[0m\u001b[1;33m\u001b[0m\u001b[1;33m\u001b[0m\u001b[0m\n",
      "\u001b[1;32mamake_swaps_arr.pyc\u001b[0m in \u001b[0;36mamake_swaps\u001b[1;34m(t1, t2, max_airmass, max_extra_slew, pointings_arr)\u001b[0m\n",
      "\u001b[1;32mparse_dump.pyc\u001b[0m in \u001b[0;36mfindall_KN\u001b[1;34m()\u001b[0m\n",
      "\u001b[1;31mOSError\u001b[0m: [Errno 2] No such file or directory: '/data/des41.b/data/SNDATA_ROOT/SIM/GW170817_AT2017gfo_LSST_WFD/'"
     ]
    },
    {
     "data": {
      "text/plain": [
       "<matplotlib.figure.Figure at 0x7fd83feeca10>"
      ]
     },
     "metadata": {},
     "output_type": "display_data"
    }
   ],
   "source": [
    "new_pointings_arr, data, costs, success = amake_swaps(t1, t2, max_airmass, max_extra_slew, pointings_arr)\n",
    "\n",
    "folder = str(t1) + '_' + str(t2) + '_' + str(max_airmass) + '_' + str(max_extra_slew)\n",
    "\n",
    "#Save simlib file under new name for different variables and then change .input file\n",
    "make_simlib(new_pointings_arr, 'simlibs/new_' + folder + '.simlib')"
   ]
  },
  {
   "cell_type": "code",
   "execution_count": 13,
   "metadata": {
    "collapsed": false
   },
   "outputs": [
    {
     "ename": "NameError",
     "evalue": "name 'new_pointings_arr' is not defined",
     "output_type": "error",
     "traceback": [
      "\u001b[1;31m\u001b[0m",
      "\u001b[1;31mNameError\u001b[0mTraceback (most recent call last)",
      "\u001b[1;32m<ipython-input-13-186a729621d0>\u001b[0m in \u001b[0;36m<module>\u001b[1;34m()\u001b[0m\n\u001b[0;32m      3\u001b[0m \u001b[0mfolder\u001b[0m \u001b[1;33m=\u001b[0m \u001b[0mstr\u001b[0m\u001b[1;33m(\u001b[0m\u001b[0mt1\u001b[0m\u001b[1;33m)\u001b[0m \u001b[1;33m+\u001b[0m \u001b[1;34m'_'\u001b[0m \u001b[1;33m+\u001b[0m \u001b[0mstr\u001b[0m\u001b[1;33m(\u001b[0m\u001b[0mt2\u001b[0m\u001b[1;33m)\u001b[0m \u001b[1;33m+\u001b[0m \u001b[1;34m'_'\u001b[0m \u001b[1;33m+\u001b[0m \u001b[0mstr\u001b[0m\u001b[1;33m(\u001b[0m\u001b[0mmax_airmass\u001b[0m\u001b[1;33m)\u001b[0m \u001b[1;33m+\u001b[0m \u001b[1;34m'_'\u001b[0m \u001b[1;33m+\u001b[0m \u001b[0mstr\u001b[0m\u001b[1;33m(\u001b[0m\u001b[0mmax_extra_slew\u001b[0m\u001b[1;33m)\u001b[0m\u001b[1;33m\u001b[0m\u001b[0m\n\u001b[0;32m      4\u001b[0m \u001b[1;33m\u001b[0m\u001b[0m\n\u001b[1;32m----> 5\u001b[1;33m \u001b[0mnp\u001b[0m\u001b[1;33m.\u001b[0m\u001b[0msave\u001b[0m\u001b[1;33m(\u001b[0m\u001b[1;34m'do_swaps/new_pointings_arrays/'\u001b[0m \u001b[1;33m+\u001b[0m \u001b[0mfolder\u001b[0m \u001b[1;33m+\u001b[0m \u001b[1;34m'/new_pointings_arr'\u001b[0m\u001b[1;33m,\u001b[0m \u001b[0mnew_pointings_arr\u001b[0m\u001b[1;33m)\u001b[0m\u001b[1;33m\u001b[0m\u001b[0m\n\u001b[0m\u001b[0;32m      6\u001b[0m \u001b[0mnp\u001b[0m\u001b[1;33m.\u001b[0m\u001b[0msave\u001b[0m\u001b[1;33m(\u001b[0m\u001b[1;34m'do_swaps/new_pointings_arrays/'\u001b[0m \u001b[1;33m+\u001b[0m \u001b[0mfolder\u001b[0m \u001b[1;33m+\u001b[0m \u001b[1;34m'/data'\u001b[0m\u001b[1;33m,\u001b[0m \u001b[0mdata\u001b[0m\u001b[1;33m)\u001b[0m\u001b[1;33m\u001b[0m\u001b[0m\n\u001b[0;32m      7\u001b[0m \u001b[0mnp\u001b[0m\u001b[1;33m.\u001b[0m\u001b[0msave\u001b[0m\u001b[1;33m(\u001b[0m\u001b[1;34m'do_swaps/new_pointings_arrays/'\u001b[0m \u001b[1;33m+\u001b[0m \u001b[0mfolder\u001b[0m \u001b[1;33m+\u001b[0m \u001b[1;34m'/no_obs'\u001b[0m\u001b[1;33m,\u001b[0m \u001b[0mno_obs\u001b[0m\u001b[1;33m)\u001b[0m\u001b[1;33m\u001b[0m\u001b[0m\n",
      "\u001b[1;31mNameError\u001b[0m: name 'new_pointings_arr' is not defined"
     ]
    }
   ],
   "source": [
    "os.chdir('/data/des41.a/data/jaortiz/snana-test/')\n",
    "\n",
    "folder = str(t1) + '_' + str(t2) + '_' + str(max_airmass) + '_' + str(max_extra_slew)\n",
    "\n",
    "np.save('do_swaps/new_pointings_arrays/' + folder + '/new_pointings_arr', new_pointings_arr)\n",
    "np.save('do_swaps/new_pointings_arrays/' + folder + '/data', data)\n",
    "np.save('do_swaps/new_pointings_arrays/' + folder + '/no_obs', no_obs)\n",
    "np.save('do_swaps/new_pointings_arrays/' + folder + '/obs_made', obs_made)\n",
    "np.save('do_swaps/new_pointings_arrays/' + folder + '/costs', costs)"
   ]
  },
  {
   "cell_type": "code",
   "execution_count": 7,
   "metadata": {
    "collapsed": true
   },
   "outputs": [],
   "source": [
    "new_pointings_arr = np.load('do_swaps/new_pointings_arrays/' + folder + '/new_pointings_arr.npy')\n",
    "#Save simlib file under new name for different variables and then change .input file\n",
    "make_simlib(new_pointings_arr, 'simlibs/new_' + folder + '.simlib')"
   ]
  },
  {
   "cell_type": "markdown",
   "metadata": {},
   "source": [
    "# Create input.INPUT file which we will use to execute snana that points to the simlib file we want to use"
   ]
  },
  {
   "cell_type": "code",
   "execution_count": 20,
   "metadata": {
    "collapsed": false,
    "scrolled": true
   },
   "outputs": [],
   "source": [
    "fin = open(\"input_sample.INPUT\")\n",
    "fout = open(\"input.INPUT\", \"wt\")\n",
    "for line in fin:\n",
    "    fout.write( line.replace('SIMLIB_FILE:  simlibs/', 'SIMLIB_FILE:  simlibs/new_' + folder + '.simlib') )\n",
    "fin.close()\n",
    "fout.close()"
   ]
  },
  {
   "cell_type": "code",
   "execution_count": 21,
   "metadata": {
    "collapsed": false
   },
   "outputs": [
    {
     "name": "stdout",
     "output_type": "stream",
     "text": [
      "429\n"
     ]
    }
   ],
   "source": [
    "DIR = '/data/des41.b/data/SNDATA_ROOT/SIM/GW170817_AT2017gfo_LSST_WFD/'\n",
    "\n",
    "#get KN locations of simulated events in snana\n",
    "file_count = len([f for f in os.walk(DIR).next()[2] if f[-4:] == \".DAT\"])\n",
    "\n",
    "os.chdir('/data/des41.a/data/jaortiz/snana-test/')\n",
    "summary = np.load('do_swaps/new_pointings_arrays/' + folder + '/summary.npy')\n",
    "summary[4] = file_count\n",
    "print file_count\n",
    "summary[5] = 21\n",
    "np.save('do_swaps/new_pointings_arrays/' + folder + '/summary.npy', summary)"
   ]
  },
  {
   "cell_type": "code",
   "execution_count": 14,
   "metadata": {
    "collapsed": false
   },
   "outputs": [
    {
     "name": "stdout",
     "output_type": "stream",
     "text": [
      "Number of LSST pointings:  2083758\n"
     ]
    },
    {
     "ename": "StopIteration",
     "evalue": "",
     "output_type": "error",
     "traceback": [
      "\u001b[1;31m\u001b[0m",
      "\u001b[1;31mStopIteration\u001b[0mTraceback (most recent call last)",
      "\u001b[1;32m<ipython-input-14-88a7da4ec25c>\u001b[0m in \u001b[0;36m<module>\u001b[1;34m()\u001b[0m\n\u001b[0;32m      4\u001b[0m \u001b[1;31m#all_KN variable is use all KN? Takes either 'yes' or 'no'\u001b[0m\u001b[1;33m\u001b[0m\u001b[1;33m\u001b[0m\u001b[0m\n\u001b[0;32m      5\u001b[0m \u001b[0mall_KN\u001b[0m \u001b[1;33m=\u001b[0m \u001b[1;34m'no'\u001b[0m\u001b[1;33m\u001b[0m\u001b[0m\n\u001b[1;32m----> 6\u001b[1;33m \u001b[0mtime_taken\u001b[0m\u001b[1;33m,\u001b[0m \u001b[0mKN_locations\u001b[0m \u001b[1;33m=\u001b[0m \u001b[0mmake_histogram_vars\u001b[0m\u001b[1;33m(\u001b[0m\u001b[0msimlib\u001b[0m\u001b[1;33m,\u001b[0m \u001b[0mall_KN\u001b[0m\u001b[1;33m)\u001b[0m\u001b[1;33m\u001b[0m\u001b[0m\n\u001b[0m\u001b[0;32m      7\u001b[0m \u001b[1;33m\u001b[0m\u001b[0m\n\u001b[0;32m      8\u001b[0m \u001b[0mos\u001b[0m\u001b[1;33m.\u001b[0m\u001b[0mchdir\u001b[0m\u001b[1;33m(\u001b[0m\u001b[1;34m'/data/des41.a/data/jaortiz/snana-test/'\u001b[0m\u001b[1;33m)\u001b[0m\u001b[1;33m\u001b[0m\u001b[0m\n",
      "\u001b[1;32mmake_histograms.pyc\u001b[0m in \u001b[0;36mmake_histogram_vars\u001b[1;34m(simlib, all_KN)\u001b[0m\n",
      "\u001b[1;31mStopIteration\u001b[0m: "
     ]
    }
   ],
   "source": [
    "subprocess.call([\"rm\", \"input.INPUT\"])\n",
    "\n",
    "simlib = '/data/des41.a/data/jaortiz/snana-test/simlibs/new_' + folder + '.simlib'\n",
    "#all_KN variable is use all KN? Takes either 'yes' or 'no'\n",
    "all_KN = 'no'\n",
    "time_taken, KN_locations = make_histogram_vars(simlib, all_KN)\n",
    "\n",
    "os.chdir('/data/des41.a/data/jaortiz/snana-test/')\n",
    "\n",
    "np.save('do_swaps/new_pointings_arrays/' + folder + '/time_taken.npy', time_taken)\n",
    "np.save('do_swaps/new_pointings_arrays/' + folder + '/KN_locations.npy', KN_locations)"
   ]
  }
 ],
 "metadata": {
  "kernelspec": {
   "display_name": "Python 2",
   "language": "python",
   "name": "python2"
  },
  "language_info": {
   "codemirror_mode": {
    "name": "ipython",
    "version": 2
   },
   "file_extension": ".py",
   "mimetype": "text/x-python",
   "name": "python",
   "nbconvert_exporter": "python",
   "pygments_lexer": "ipython2",
   "version": "2.7.11"
  }
 },
 "nbformat": 4,
 "nbformat_minor": 0
}
