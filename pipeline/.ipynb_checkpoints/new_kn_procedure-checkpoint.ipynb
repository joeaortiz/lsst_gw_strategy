{
 "cells": [
  {
   "cell_type": "code",
   "execution_count": 19,
   "metadata": {
    "collapsed": false
   },
   "outputs": [],
   "source": [
    "from astropy import units as u\n",
    "from astropy.coordinates import SkyCoord, EarthLocation, AltAz\n",
    "from astropy.time import Time\n",
    "import scipy\n",
    "import numpy as np\n",
    "import os\n",
    "\n",
    "from parse_simlib import parse_simlib\n",
    "from python_utilities.des_io import parse_observations"
   ]
  },
  {
   "cell_type": "code",
   "execution_count": 98,
   "metadata": {
    "collapsed": false
   },
   "outputs": [
    {
     "name": "stdout",
     "output_type": "stream",
     "text": [
      "2083758\n"
     ]
    }
   ],
   "source": [
    "#Creates a list of all pointings, with [LIBID, RA, DECL, MJD IDEXPT  FLT GAIN NOISE SKYSIG (pixels)  RATIO  ZPTAVG ZPTERR  MAG]\n",
    "libid_details, pointings_arr = parse_simlib('../minion_1016_WFD.simlib')\n",
    "\n",
    "print len(pointings_arr)\n"
   ]
  },
  {
   "cell_type": "code",
   "execution_count": 7,
   "metadata": {
    "collapsed": true
   },
   "outputs": [],
   "source": [
    "def load_KN_locs(DIR): #load locations and times of all DAT files for KN in given directory \n",
    "    file_count = len([f for f in os.walk(DIR).next()[2] if f[-4:] == \".DAT\"])\n",
    "    KN_locations = np.zeros([file_count, 3])\n",
    "\n",
    "    file_num = 0\n",
    "    for file in os.listdir(DIR):  # run through all .dat files in the specified directory\n",
    "        if file.endswith(\".DAT\"):\n",
    "            obs, headerdict = parse_observations(DIR + file)\n",
    "            KN_locations[file_num,:] = [headerdict['PEAKMJD'], headerdict['RA'], headerdict['DECL']]\n",
    "            file_num += 1\n",
    "    return KN_locations\n",
    "\n",
    "KN_locations = load_KN_locs('../GW170817_AT2017gfo_LSST_WFD/')"
   ]
  },
  {
   "cell_type": "code",
   "execution_count": 142,
   "metadata": {
    "collapsed": false
   },
   "outputs": [],
   "source": [
    "KN = KN_locations[0,:]"
   ]
  },
  {
   "cell_type": "markdown",
   "metadata": {},
   "source": [
    "When is the KN going to be visible? Check the next 24 hours in 1 hour intervals"
   ]
  },
  {
   "cell_type": "code",
   "execution_count": 143,
   "metadata": {
    "collapsed": false
   },
   "outputs": [
    {
     "name": "stdout",
     "output_type": "stream",
     "text": [
      "[1 0 0 0 0 0 0 0 0 0 0 0 0 0 0 1 1 1 1 1 1 1 1 1]\n",
      "[  6.17753400e+04   6.90160900e+01  -5.85892330e+01]\n"
     ]
    }
   ],
   "source": [
    "#when is the KN going to be visible? Check the next 24 hours in 1 hour intervals\n",
    "lsst_location = EarthLocation(lat=-30.2446*u.deg, lon=-70.7494*u.deg, height=2663*u.m)\n",
    "utcoffset = -3*u.hour  # Chile Daylight Time\n",
    "\n",
    "times = np.arange(KN[0], KN[0]+1, 1/24.) #1 hour\n",
    "time = Time(times, format='mjd') - utcoffset\n",
    "KN_loc = SkyCoord(ra=KN[1] * u.degree, dec=KN[2] * u.degree)\n",
    "KNaltaz = KN_loc.transform_to(AltAz(obstime=time,location=lsst_location))  \n",
    "altitude = KNaltaz.alt.deg\n",
    "\n",
    "observable = (altitude>5).astype(int) #observable if altitude in sky is >5deg\n",
    "for i,t in enumerate(times):\n",
    "    if 0.45 < t%1 <0.945: #must be dark. All pointings in simlib satisfy this condition\n",
    "        observable[i]=0\n",
    "\n",
    "print observable\n",
    "print KN"
   ]
  },
  {
   "cell_type": "markdown",
   "metadata": {},
   "source": [
    "Are we scheduled to observe this event anyway? If not find the closest observation in the next 24 hours"
   ]
  },
  {
   "cell_type": "code",
   "execution_count": 164,
   "metadata": {
    "collapsed": false
   },
   "outputs": [
    {
     "name": "stdout",
     "output_type": "stream",
     "text": [
      "[  3.14000000e+02   4.79445350e+01  -6.20211340e+01   6.17761496e+04\n",
      "   1.47971900e+06   3.00000000e+00   1.00000000e+00   2.50000000e-01\n",
      "   4.32800000e+01   2.55000000e+00   0.00000000e+00   0.00000000e+00\n",
      "   3.13000000e+01   5.00000000e-03  -9.90000000e+01] 10.9307324221\n"
     ]
    }
   ],
   "source": [
    "#get pointings in the next week and day\n",
    "pointings_later = pointings_arr[KN[0]<pointings_arr[:,3], :]\n",
    "pointings_nextweek = pointings_later[pointings_later[:,3]<(KN[0]+7)]\n",
    "pointings_nextday = pointings_later[pointings_later[:,3]<(KN[0]+1)]\n",
    "#print pointings_nextday[:,3]\n",
    "\n",
    "#check if we are scheduled to observe this event anyway\n",
    "if len(pointings_nextday) == 0: #if no pointings in the next 24hrs\n",
    "    print 'Problem: no pointings in the next day'\n",
    "else:\n",
    "    #get angles between all of pointings and KN\n",
    "    pointings_locs = SkyCoord(ra=pointings_nextday[:,1] * u.degree, dec=pointings_nextday[:,2] * u.degree)\n",
    "    angsep = KN_loc.separation(pointings_locs).deg\n",
    "    observations_arg = np.argwhere(angsep < np.sqrt(9.6/np.pi))\n",
    "    KN_observations = pointings_nextday[observations_arg,:]\n",
    "    if len(KN_observations) != 0:\n",
    "        obs_scheduled = 1\n",
    "        closest_obs = np.nan\n",
    "    else: #find closest pointing within 24hours\n",
    "        obs_scheduled = 0\n",
    "        closest_obs = pointings_nextday[np.argmin(angsep),:]\n",
    "        \n",
    "\n",
    "print closest_obs, swap_angle"
   ]
  },
  {
   "cell_type": "markdown",
   "metadata": {},
   "source": [
    "Search for future pointing at KN location (within 0.5deg) in next 30 days to swap the pointing in the next 24 hours with. What is the cost in slew time of swapping these pointings?"
   ]
  },
  {
   "cell_type": "code",
   "execution_count": 179,
   "metadata": {
    "collapsed": false
   },
   "outputs": [
    {
     "name": "stdout",
     "output_type": "stream",
     "text": [
      "[  3.82000000e+02   6.90160900e+01  -5.85892320e+01   6.17771328e+04\n",
      "   1.48036800e+06   3.00000000e+00   1.00000000e+00   2.50000000e-01\n",
      "   4.70100000e+01   1.84000000e+00   0.00000000e+00   0.00000000e+00\n",
      "   3.13400000e+01   5.00000000e-03  -9.90000000e+01] -0.000499999994645\n"
     ]
    }
   ],
   "source": [
    "if obs_scheduled == 0:\n",
    "    longterm_pointings_locs = SkyCoord(ra=pointings_nextmonth[:,1] * u.degree, dec=pointings_nextmonth[:,2] * u.degree)\n",
    "    angsep_longterm = KN_loc.separation(longterm_pointings_locs).deg\n",
    "    observations_arg = np.argwhere(angsep_longterm < 0.5)\n",
    "    pointing_to_swap = pointings_nextmonth[observations_arg,:][0][0]\n",
    "\n",
    "    #what is cost of the swap in overhead time\n",
    "    swap_to_now = SkyCoord(ra=closest_obs[1] * u.degree, dec=closest_obs[2] * u.degree)\n",
    "    swap_to_later = SkyCoord(ra=pointing_to_swap[1] * u.degree, dec=pointing_to_swap[2] * u.degree)\n",
    "    swap_angle = swap_to_now.separation(swap_to_later).deg \n",
    "    const1, const2 = 0, 0\n",
    "    new_overhead_time = const1 + const2*swap_angle\n",
    "    original_overhead_time = pointings_nextday[np.argmin(angsep),3] - pointings_nextday[np.argmin(angsep)-1,3]\n",
    "    extra_overhead_time = new_overhead_time - original_overhead_time #units of days\n",
    "    \n",
    "    print pointing_to_swap, extra_overhead_time"
   ]
  },
  {
   "cell_type": "code",
   "execution_count": null,
   "metadata": {
    "collapsed": true
   },
   "outputs": [],
   "source": []
  }
 ],
 "metadata": {
  "kernelspec": {
   "display_name": "Python 2",
   "language": "python",
   "name": "python2"
  },
  "language_info": {
   "codemirror_mode": {
    "name": "ipython",
    "version": 2
   },
   "file_extension": ".py",
   "mimetype": "text/x-python",
   "name": "python",
   "nbconvert_exporter": "python",
   "pygments_lexer": "ipython2",
   "version": "2.7.11"
  }
 },
 "nbformat": 4,
 "nbformat_minor": 0
}
