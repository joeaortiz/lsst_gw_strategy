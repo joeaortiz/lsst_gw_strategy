{
 "cells": [
  {
   "cell_type": "markdown",
   "metadata": {},
   "source": [
    "## Investigates the airmass of LSST observations in the default survey"
   ]
  },
  {
   "cell_type": "code",
   "execution_count": 4,
   "metadata": {
    "collapsed": true
   },
   "outputs": [],
   "source": [
    "import numpy as np\n",
    "import random\n",
    "import os\n",
    "import matplotlib.pylab as plt\n",
    "%matplotlib inline\n",
    "\n",
    "os.chdir('/data/des41.a/data/jaortiz/snana-test/')\n",
    "from python_all.parse_simlib import parse_simlib"
   ]
  },
  {
   "cell_type": "code",
   "execution_count": 6,
   "metadata": {
    "collapsed": false
   },
   "outputs": [
    {
     "name": "stdout",
     "output_type": "stream",
     "text": [
      "2083758\n"
     ]
    }
   ],
   "source": [
    "#Creates a list of all pointings, with [LIBID, RA, DECL, MJD IDEXPT  FLT GAIN NOISE SKYSIG (pixels)  RATIO  ZPTAVG ZPTERR  MAG]\n",
    "libid_details, pointings_arr = parse_simlib('simlibs/minion_1016_WFD.simlib')\n",
    "\n",
    "print len(pointings_arr)"
   ]
  },
  {
   "cell_type": "code",
   "execution_count": 15,
   "metadata": {
    "collapsed": false
   },
   "outputs": [
    {
     "name": "stdout",
     "output_type": "stream",
     "text": [
      "started\n"
     ]
    },
    {
     "name": "stderr",
     "output_type": "stream",
     "text": [
      "WARNING: ErfaWarning: ERFA function \"utctai\" yielded 2083758 of \"dubious year (Note 3)\" [astropy._erfa.core]\n",
      "Traceback (most recent call last):\n",
      "  File \"/cvmfs/des.opensciencegrid.org/fnal/anaconda2/envs/default/lib/python2.7/logging/__init__.py\", line 874, in emit\n",
      "    stream.write(fs % msg)\n",
      "IOError: [Errno 5] Input/output error\n",
      "Logged from file logger.py, line 220\n",
      "WARNING: ErfaWarning: ERFA function \"taiutc\" yielded 2083758 of \"dubious year (Note 4)\" [astropy._erfa.core]\n",
      "Traceback (most recent call last):\n",
      "  File \"/cvmfs/des.opensciencegrid.org/fnal/anaconda2/envs/default/lib/python2.7/logging/__init__.py\", line 874, in emit\n",
      "    stream.write(fs % msg)\n",
      "IOError: [Errno 5] Input/output error\n",
      "Logged from file logger.py, line 220\n",
      "WARNING: ErfaWarning: ERFA function \"apio13\" yielded 2083758 of \"dubious year (Note 2)\" [astropy._erfa.core]\n",
      "Traceback (most recent call last):\n",
      "  File \"/cvmfs/des.opensciencegrid.org/fnal/anaconda2/envs/default/lib/python2.7/logging/__init__.py\", line 874, in emit\n",
      "    stream.write(fs % msg)\n",
      "IOError: [Errno 5] Input/output error\n",
      "Logged from file logger.py, line 220\n"
     ]
    },
    {
     "name": "stdout",
     "output_type": "stream",
     "text": [
      "2.3024252379\n"
     ]
    }
   ],
   "source": [
    "from astropy import units as u\n",
    "from astropy.coordinates import SkyCoord, EarthLocation, AltAz\n",
    "from astropy.time import Time\n",
    "import numpy as np\n",
    "\n",
    "print 'started'\n",
    "pointings = pointings_arr#[0:100000]\n",
    "\n",
    "lsst_location = EarthLocation(lat=-32.344633333333334*u.deg, lon=-77.34941666666666*u.deg, height=2652*u.m)\n",
    "times = pointings[:,3]\n",
    "time = Time(times, format='mjd')\n",
    "loc = SkyCoord(ra=pointings[:,1] * u.degree, dec=pointings[:,2] * u.degree)\n",
    "altaz = loc.transform_to(AltAz(obstime=time,location=lsst_location))  \n",
    "altitude = altaz.alt.deg\n",
    "\n",
    "#put limit on airmass, Could be below ~2\n",
    "zenith_ang = 90 - altitude #in deg\n",
    "zenith_ang_rad = zenith_ang * np.pi / 180\n",
    "airmass = 1 / np.cos(zenith_ang_rad)\n",
    "\n",
    "print max(airmass)"
   ]
  },
  {
   "cell_type": "code",
   "execution_count": 31,
   "metadata": {
    "collapsed": false
   },
   "outputs": [
    {
     "data": {
      "image/png": "[encoded data removed]",
      "text/plain": [
       "<matplotlib.figure.Figure at 0x7f0d702781d0>"
      ]
     },
     "metadata": {},
     "output_type": "display_data"
    }
   ],
   "source": [
    "fig1 = plt.figure(figsize=(10,5))\n",
    " \n",
    "# histdata, binedges = np.histogram(airmass, 25)\n",
    "# binsize = binedges[1] - binedges[0]\n",
    "# bincentres = binedges[:-1] + binsize/2\n",
    "# histdata = histdata/float(len(airmass)) \n",
    "# plt.plot(bincentres, histdata)\n",
    "\n",
    "\n",
    "plt.hist(airmass, bins=30)\n",
    "\n",
    "plt.title('Histogram of airmass', size=18)\n",
    "plt.yscale('log')\n",
    "plt.ylabel('Number of observations', size=14)\n",
    "#plt.xlim(xmax=x_max)\n",
    "plt.xlabel('airmass', size=14)\n",
    "\n",
    "plt.show()\n",
    "\n",
    "fig1.savefig('figures/airmass')"
   ]
  }
 ],
 "metadata": {
  "kernelspec": {
   "display_name": "Python 2",
   "language": "python",
   "name": "python2"
  },
  "language_info": {
   "codemirror_mode": {
    "name": "ipython",
    "version": 2
   },
   "file_extension": ".py",
   "mimetype": "text/x-python",
   "name": "python",
   "nbconvert_exporter": "python",
   "pygments_lexer": "ipython2",
   "version": "2.7.11"
  }
 },
 "nbformat": 4,
 "nbformat_minor": 0
}
