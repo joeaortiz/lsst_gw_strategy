{
 "cells": [
  {
   "cell_type": "code",
   "execution_count": 6,
   "metadata": {
    "collapsed": true
   },
   "outputs": [],
   "source": [
    "import numpy as np"
   ]
  },
  {
   "cell_type": "code",
   "execution_count": 32,
   "metadata": {
    "collapsed": false
   },
   "outputs": [
    {
     "name": "stdout",
     "output_type": "stream",
     "text": [
      "[ 309.  310.  311.  312.  313.  314.  315.  316.  318.  319.  320.  321.\n",
      "  322.  323.  325.  327.  328.  329.  330.  331.  332.  333.  334.  335.\n",
      "  338.  339.  340.  341.  342.  343.  344.  345.  347.  348.  349.  351.\n",
      "  354.  355.  356.  357.  359.  360.  361.  363.  364.  365.  366.  368.\n",
      "  369.  370.  371.  372.  373.  374.  375.  378.  379.  380.  381.  382.\n",
      "  384.  385.  386.  387.  388.  390.  391.  392.  394.  395.  396.  397.\n",
      "  398.  400.  401.  402.  403.  404.  405.  406.  407.  408.  409.  412.\n",
      "  413.  414.  415.  416.  417.  418.  419.  420.  421.  422.  423.  424.\n",
      "  426.  427.  428.  429.] 2293\n",
      "(2083758, 15)\n"
     ]
    }
   ],
   "source": [
    "new_pointings_arr = np.load('new_pointing_arrays/1_28_2_70/new_pointings_arr.npy')\n",
    "\n",
    "print np.shape(new_pointings_arr)"
   ]
  },
  {
   "cell_type": "code",
   "execution_count": 180,
   "metadata": {
    "collapsed": false
   },
   "outputs": [],
   "source": [
    "def make_simlib(new_pointings_arr, simlib_file): #simlib_file is name of output file to write to\n",
    "\n",
    "    libids = np.unique(new_pointings_arr[:,0])\n",
    "    \n",
    "    with open(simlib_file, 'w') as simlib:\n",
    "\n",
    "        #write title lines\n",
    "        simlib.write('SURVEY: LSST    FILTERS: ugrizY  TELESCOPE: LSST\\n')\n",
    "        simlib.write('USER: rbiswas     HOST: time\\n')\n",
    "        simlib.write('BEGIN LIBGEN\\n\\n')\n",
    "\n",
    "        for libid in libids:\n",
    "\n",
    "            pointings = new_pointings_arr[new_pointings_arr[:,0]==libid]\n",
    "            n_obs = len(pointings)\n",
    "            ra, decl = pointings[0,1], pointings[0,2]\n",
    "\n",
    "            #make field header\n",
    "            simlib.write('# --------------------------------------------' +'\\n')\n",
    "            simlib.write('LIBID:{0:11d}'.format(int(libid)) +'\\n')\n",
    "            simlib.write('RA: {0:+.6f}'.format(ra) + ' DECL: {0:+.6f}'.format(decl) )\n",
    "            simlib.write('   NOBS: {0:11d}'.format(n_obs) + ' MWEBV: 0.01 PIXSIZE: 0.200' + '\\n')\n",
    "            simlib.write('#                           CCD  CCD         PSF1 PSF2 PSF2/1' +'\\n')\n",
    "            simlib.write('#     MJD      IDEXPT  FLT GAIN NOISE SKYSIG (pixels)  RATIO  ZPTAVG ZPTERR  MAG' + '\\n')\n",
    "\n",
    "            #insert pointings\n",
    "            #[LIBID, RA, DECL, MJD IDEXPT  FLT GAIN NOISE SKYSIG (pixels)  RATIO  ZPTAVG ZPTERR  MAG]\n",
    "            sorted_pointings = pointings[np.argsort(pointings[:,3])]\n",
    "            bands = ['u', 'g', 'r', 'i', 'z', 'Y']\n",
    "\n",
    "            for pointing in sorted_pointings:\n",
    "\n",
    "                simlib.write('S: ' + '{0:5.4f} '.format(pointing[3]) + '{0:10d} '.format(int(pointing[4])))\n",
    "                simlib.write('{} '.format(bands[int(pointing[5])]) + '{0:5.2f} '.format(1.))\n",
    "                simlib.write(\"{0:5.2f} \".format(0.25) + \"{0:6.2f} \".format(pointing[8]))\n",
    "                simlib.write(\"{0:4.2f} \".format(pointing[9]) + \"{0:4.2f} \".format(0.) + \"{0:4.3f} \".format(0.))\n",
    "                simlib.write('{0:6.2f} '.format(pointing[12]) + '{0:6.3f} '.format(pointing[13]) )\n",
    "                simlib.write(\"{0:+7.3f}\".format(-99.) + '\\n')\n",
    "\n",
    "\n",
    "            #make field footer\n",
    "            simlib.write('END_LIBID:{0:11d}'.format(int(libid)) + '\\n')\n",
    "          \n",
    "        simlib.write('END_OF_SIMLIB:          2293 ENTRIES')\n",
    "        \n",
    "    return\n"
   ]
  },
  {
   "cell_type": "code",
   "execution_count": 179,
   "metadata": {
    "collapsed": false
   },
   "outputs": [],
   "source": [
    "make_simlib(new_pointings_arr, '../simlibs/new.simlib')\n"
   ]
  },
  {
   "cell_type": "code",
   "execution_count": 158,
   "metadata": {
    "collapsed": false
   },
   "outputs": [
    {
     "name": "stdout",
     "output_type": "stream",
     "text": [
      "(2083758, 15)\n",
      "[[1775711]\n",
      " [1775712]]\n",
      "62708.4264\n"
     ]
    }
   ],
   "source": [
    "# aa = new_pointings_arr#[new_pointings_arr[:,0]==2776]\n",
    "# ab = np.argsort(aa[:,4])\n",
    "# ac = np.argsort(aa[:,3])\n",
    "\n",
    "# print np.shape(aa)\n",
    "# check  = (ab == ac )\n",
    "# #print check\n",
    "# print np.argwhere(check == False)\n",
    "\n",
    "# new_pointings_arr[1775712, 3] = 62708.4269\n",
    "# #print aa[0:50,3:5]\n"
   ]
  }
 ],
 "metadata": {
  "kernelspec": {
   "display_name": "Python 2",
   "language": "python",
   "name": "python2"
  },
  "language_info": {
   "codemirror_mode": {
    "name": "ipython",
    "version": 2
   },
   "file_extension": ".py",
   "mimetype": "text/x-python",
   "name": "python",
   "nbconvert_exporter": "python",
   "pygments_lexer": "ipython2",
   "version": "2.7.11"
  }
 },
 "nbformat": 4,
 "nbformat_minor": 0
}
