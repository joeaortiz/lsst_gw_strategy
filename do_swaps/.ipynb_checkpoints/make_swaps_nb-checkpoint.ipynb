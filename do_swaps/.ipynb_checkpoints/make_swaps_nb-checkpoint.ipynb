{
 "cells": [
  {
   "cell_type": "code",
   "execution_count": 1,
   "metadata": {
    "collapsed": false
   },
   "outputs": [],
   "source": [
    "import subprocess\n",
    "import os\n",
    "from astropy import units as u\n",
    "from astropy.coordinates import SkyCoord, EarthLocation, AltAz\n",
    "from astropy.time import Time\n",
    "import scipy\n",
    "import numpy as np\n",
    "\n",
    "os.chdir('/data/des41.a/data/jaortiz/snana-test/')\n",
    "from python_all.parse_simlib import parse_simlib\n"
   ]
  },
  {
   "cell_type": "code",
   "execution_count": 163,
   "metadata": {
    "collapsed": true
   },
   "outputs": [],
   "source": [
    "#variables\n",
    "t1 = 1 #time period in which we want pointing at KN to occur (days)\n",
    "t2 = 28 #time period in which we are happy to do compensating swap (days)\n",
    "max_airmass = 2\n",
    "max_extra_slew = 70 #in deg"
   ]
  },
  {
   "cell_type": "code",
   "execution_count": 135,
   "metadata": {
    "collapsed": false
   },
   "outputs": [
    {
     "name": "stdout",
     "output_type": "stream",
     "text": [
      "Number of simulations:  11659\n"
     ]
    }
   ],
   "source": [
    "#def make_swaps():\n",
    "\n",
    "os.chdir('/data/des41.a/data/jaortiz/snana-test/do_swaps/')\n",
    "from parse_dump import findall_KN \n",
    "\n",
    "allKN = findall_KN()\n",
    "KNlist = allKN[0:10]\n",
    "#print KNlist\n",
    "\n",
    "os.chdir('/data/des41.a/data/jaortiz/snana-test/')\n",
    "#copy simlib file to file new.simlib\n",
    "subprocess.call([\"cp\", \"simlibs/minion_1016_WFD.simlib\", \"simlibs/new.simlib\"])\n",
    "\n",
    "#Creates a list of all pointings, with [LIBID, RA, DECL, MJD IDEXPT  FLT GAIN NOISE SKYSIG (pixels)  RATIO  ZPTAVG ZPTERR  MAG]\n",
    "libid_details, pointings_arr = parse_simlib('simlibs/minion_1016_WFD.simlib')\n",
    "\n"
   ]
  },
  {
   "cell_type": "code",
   "execution_count": 179,
   "metadata": {
    "collapsed": false
   },
   "outputs": [
    {
     "name": "stdout",
     "output_type": "stream",
     "text": [
      "Swap done\n",
      "Swap failed as no observation in next 28 days close to KN. Closest obs at 16.662427\n",
      "No swap required as observation already exists with slew to KN: 0.000000\n",
      "Swap failed as no observation in next 28 days close to KN. Closest obs at 11.419508\n",
      "Swap done\n",
      "Swap failed as no observations in next 1 day(s)\n",
      "Swap done\n",
      "Swap done\n",
      "Swap done\n",
      "No swap required as observation already exists with slew to KN: 0.000000\n",
      "\n",
      "***************************************\n",
      "Number of KN processed: 10 \n",
      "\n",
      "Swap made: 50.0 % \n",
      "No swap made because... \n",
      "    Observation already scheduled: 20.0 %\n",
      "    No observations in next 1 day(s): 10.0 %\n",
      "    Swap failed as extra slew required > 70 deg: 0.0 %\n",
      "    No observation in next 28 days close to KN: 20.0 %\n",
      "***************************************\n"
     ]
    }
   ],
   "source": [
    "#Results analysis \n",
    "#[swap made, observation already scheduled, no observations in next 24hrs, slew angle >70deg, no observations in next week close to KN]\n",
    "results = np.zeros(5)\n",
    "\n",
    "for KN in KNlist:\n",
    "    #print KN\n",
    "    \n",
    "    #when is the KN going to be visible? Check the next 24 hours in 0.5 hour intervals\n",
    "    obs_times = when_observable(KN)\n",
    "    \n",
    "    #Are we scheduled to observe this event anyway? If not find the closest observation in the next 24 hours\n",
    "    closest_obs, slew_to_KN, original_overhead_time = get_closest_obs(pointings_arr, KN, obs_times)\n",
    "    \n",
    "    \n",
    "    \n",
    "    \n",
    "    if type(original_overhead_time) == int:\n",
    "        if original_overhead_time == 0:\n",
    "            results[2] += 1 #no observations in next 24hrs\n",
    "            print 'Swap failed as no observations in next %i day(s)' %t1\n",
    "            continue\n",
    "        if original_overhead_time == 1:\n",
    "            results[1] += 1 #observation already exists\n",
    "            print 'No swap required as observation already exists with slew to KN: %f' %slew_to_KN\n",
    "            continue\n",
    "        if original_overhead_time == 2:\n",
    "            results[3] += 1 #slew angle > max_extra_slew deg\n",
    "            print 'Swap failed as closest observation has angsep: %f > 70deg' %slew_to_KN\n",
    "            continue\n",
    "\n",
    "    #Search for future pointing at KN location (within 0.5deg) in next 7 days.\n",
    "    #if we have made it this far then we want to do a swap unless there is no observation in the future we can swap with\n",
    "    pointing_to_swap, min_angsep_lt = find_later_pointing(pointings_arr, KN)\n",
    "    if type(pointing_to_swap) == int:\n",
    "        results[4] += 1 #note that no swap because there is no pointing close to KN in next week\n",
    "        print 'Swap failed as no observation in next %i days close to KN. Closest obs at %f' %(t2, min_angsep_lt)\n",
    "        continue\n",
    "\n",
    "    #What is the cost in slew time of swapping these pointings?\n",
    "    extra_overhead_time = cost(pointing_to_swap, closest_obs, original_overhead_time)\n",
    "    \n",
    "    #copy pointings arr and swap ra and decl \n",
    "    new_pointings_arr, results = swap_obs(pointings_arr, closest_obs, pointing_to_swap, results)\n",
    "    results[0] += 1\n",
    "    print 'Swap done'\n",
    "\n",
    "results_perc = results*100/float(len(KNlist))\n",
    "    \n",
    "print '\\n', '***************************************'\n",
    "print 'Number of KN processed: %i \\n' %len(KNlist)\n",
    "print 'Swap made: %.1f %% \\nNo swap made because... \\n    Observation already scheduled: %.1f %%' %(results_perc[0], results_perc[1])\n",
    "print '    No observations in next %i day(s): %.1f %%' %(t1,results_perc[2])\n",
    "print '    Swap failed as extra slew required > %i deg: %.1f %%' %(max_extra_slew,results_perc[3])\n",
    "print '    No observation in next %i days close to KN: %.1f %%' %(t2, results_perc[4])\n",
    "print '***************************************'\n"
   ]
  },
  {
   "cell_type": "code",
   "execution_count": 3,
   "metadata": {
    "collapsed": false
   },
   "outputs": [
    {
     "name": "stdout",
     "output_type": "stream",
     "text": [
      "2083758\n"
     ]
    }
   ],
   "source": [
    "os.chdir('/data/des41.a/data/jaortiz/snana-test/')\n",
    "\n",
    "#copy simlib file to file new.simlib\n",
    "subprocess.call([\"cp\", \"simlibs/minion_1016_WFD.simlib\", \"simlibs/new.simlib\"])\n",
    "\n",
    "#Creates a list of all pointings, with [LIBID, RA, DECL, MJD IDEXPT  FLT GAIN NOISE SKYSIG (pixels)  RATIO  ZPTAVG ZPTERR  MAG]\n",
    "libid_details, pointings_arr = parse_simlib('simlibs/minion_1016_WFD.simlib')\n",
    "print len(pointings_arr)\n"
   ]
  },
  {
   "cell_type": "code",
   "execution_count": 4,
   "metadata": {
    "collapsed": false
   },
   "outputs": [],
   "source": [
    "#Results analysis\n",
    "# [swap made, observation already scheduled, slew angle >30deg, ]\n",
    "results = np.zeros(5)"
   ]
  },
  {
   "cell_type": "code",
   "execution_count": 157,
   "metadata": {
    "collapsed": false,
    "scrolled": false
   },
   "outputs": [
    {
     "name": "stdout",
     "output_type": "stream",
     "text": [
      "[ 63002.244       63002.26483333  63002.28566667  63002.3065\n",
      "  63002.32733333  63002.34816667  63002.369       63002.38983333\n",
      "  63002.41066667  63002.4315      63003.01483333  63003.03566667\n",
      "  63003.0565      63003.07733333  63003.09816667  63003.119       63003.13983333\n",
      "  63003.16066667  63003.1815      63003.20233333  63003.22316667]\n"
     ]
    }
   ],
   "source": [
    "def when_observable(KN):#when is the KN going to be visible? Check the next 24 hours in 0.5 hour intervals\n",
    "\n",
    "    lsst_location = EarthLocation(lat=-30.2446*u.deg, lon=-70.7494*u.deg, height=2663*u.m)\n",
    "    utcoffset = -3*u.hour  # Chile Daylight Time\n",
    "    times = np.arange(KN[0], KN[0]+1, 1/48.) #30 minute intervals in next 24 hours\n",
    "    time = Time(times, format='mjd') - utcoffset\n",
    "    KN_loc = SkyCoord(ra=KN[1] * u.degree, dec=KN[2] * u.degree)\n",
    "    KNaltaz = KN_loc.transform_to(AltAz(obstime=time,location=lsst_location))  \n",
    "    altitude = KNaltaz.alt.deg\n",
    "    \n",
    "    #put limit on airmass, Could be below ~2\n",
    "    zenith_ang = 90 - altitude #in deg\n",
    "    zenith_ang_rad = zenith_ang * np.pi / 180\n",
    "    airmass = 1 / np.cos(zenith_ang_rad)\n",
    "    \n",
    "    observable = (airmass<max_airmass).astype(int) #observable if altitude in sky is >5deg\n",
    "    for i,t in enumerate(times):\n",
    "        if 0.45 < t%1 <0.945: #must be dark. All pointings in simlib satisfy this condition\n",
    "            observable[i]=0\n",
    "        if airmass[i] <0:\n",
    "            observable[i]=0\n",
    "    \n",
    "    #ind = np.nonzero(times)\n",
    "    obs_times = observable*times\n",
    "    ind = np.array(observable.astype(bool))\n",
    "    obs_times = obs_times[ind]\n",
    "    \n",
    "    return obs_times \n",
    "\n",
    "obs_times = when_observable(KN)\n",
    "print obs_times\n"
   ]
  },
  {
   "cell_type": "code",
   "execution_count": 164,
   "metadata": {
    "collapsed": false
   },
   "outputs": [
    {
     "name": "stdout",
     "output_type": "stream",
     "text": [
      "[  3.19000000e+02   2.88000043e+02  -6.11268620e+01   6.30022543e+04\n",
      "   2.30932300e+06   3.00000000e+00   1.00000000e+00   2.50000000e-01\n",
      "   3.61900000e+01   1.66000000e+00   0.00000000e+00   0.00000000e+00\n",
      "   3.13000000e+01   5.00000000e-03  -9.90000000e+01] 0.0\n"
     ]
    }
   ],
   "source": [
    "def get_closest_obs(pointings_arr, KN, obs_times):\n",
    "    #Are we scheduled to observe this event anyway? If not find the closest observation in the next 24 hours\n",
    "\n",
    "    #get pointings in the next week\n",
    "    pointings_later = pointings_arr[KN[0]<pointings_arr[:,3], :]\n",
    "    pointings_nextday_possible = pointings_later[pointings_later[:,3]<(KN[0]+t1)]\n",
    "    \n",
    "    #only consider pointings in next day when KN is observable\n",
    "    for i,time in enumerate(obs_times):\n",
    "        add = pointings_nextday_possible[pointings_nextday_possible[:,3]<(time+ 1/48.)]\n",
    "        add = add[add[:,3]>time]\n",
    "        if i==0:\n",
    "            pointings_nextday = np.copy(add)\n",
    "        else:\n",
    "            pointings_nextday = np.vstack((pointings_nextday, add))\n",
    "    \n",
    "    if len(pointings_nextday) == 0: #if no pointings in the next 24hrs\n",
    "        closest_obs, original_overhead_time, slew_to_KN = 0,0, np.nan\n",
    "    else:\n",
    "        #get angles between all of pointings and KN\n",
    "        pointings_locs = SkyCoord(ra=pointings_nextday[:,1] * u.degree, dec=pointings_nextday[:,2] * u.degree)\n",
    "        KN_loc = SkyCoord(ra=KN[1] * u.degree, dec=KN[2] * u.degree)\n",
    "        angsep = KN_loc.separation(pointings_locs).deg\n",
    "        original_overhead_time = pointings_nextday[np.argmin(angsep),3] - pointings_nextday[np.argmin(angsep)-1,3]\n",
    "        \n",
    "        #find closest pointing within 24hours for swap\n",
    "        closest_obs = pointings_nextday[np.argmin(angsep),:]\n",
    "        slew_to_KN = np.min(angsep)\n",
    "        \n",
    "        #check if we are scheduled to observe this event anyway\n",
    "        #observations_arg = np.argwhere(angsep < np.sqrt(9.6/np.pi))\n",
    "        #KN_observations = pointings_nextday[observations_arg,:] #observations made of KN, if any\n",
    "        if slew_to_KN < np.sqrt(9.6/np.pi):\n",
    "            original_overhead_time = 1 #no swap because observation already exists\n",
    "        if slew_to_KN > max_extra_slew:\n",
    "            original_overhead_time = 2 #no swap because smallest slew angle was too large\n",
    "\n",
    "    return closest_obs, slew_to_KN, original_overhead_time\n",
    "\n",
    "closest_obs, slew_to_KN, original_overhead_time = get_closest_obs(pointings_arr, KN, obs_times)\n",
    "\n",
    "print closest_obs, slew_to_KN"
   ]
  },
  {
   "cell_type": "code",
   "execution_count": 154,
   "metadata": {
    "collapsed": false
   },
   "outputs": [
    {
     "name": "stdout",
     "output_type": "stream",
     "text": [
      "(array([  3.19000000e+02,   2.88000043e+02,  -6.11268620e+01,\n",
      "         6.30022543e+04,   2.30932300e+06,   3.00000000e+00,\n",
      "         1.00000000e+00,   2.50000000e-01,   3.61900000e+01,\n",
      "         1.66000000e+00,   0.00000000e+00,   0.00000000e+00,\n",
      "         3.13000000e+01,   5.00000000e-03,  -9.90000000e+01]), 0.0)\n"
     ]
    }
   ],
   "source": [
    "def find_later_pointing(pointings_arr, KN):\n",
    "    #Search for future pointing at KN location (within 0.5deg) in next 7 days.\n",
    "    #if we have made it this far then we want to do a swap unless there is no observation in the future we can swap with\n",
    "\n",
    "    #get pointings in the next week\n",
    "    pointings_later = pointings_arr[KN[0]<pointings_arr[:,3], :]\n",
    "    pointings_nextweek = pointings_later[pointings_later[:,3]<(KN[0]+t2)]\n",
    "    \n",
    "    nextweek_locs = SkyCoord(ra=pointings_nextweek[:,1] * u.degree, dec=pointings_nextweek[:,2] * u.degree)\n",
    "    KN_loc = SkyCoord(ra=KN[1] * u.degree, dec=KN[2] * u.degree)\n",
    "    angsep_longterm = KN_loc.separation(nextweek_locs).deg\n",
    "    min_angsep_lt = np.min(angsep_longterm)\n",
    "    if np.min(angsep_longterm) > np.sqrt(9.6/np.pi): #Require KN to be inside observation as we will swap ra,decl\n",
    "        pointing_to_swap = 0 #no observations in next week to swap with\n",
    "    else:\n",
    "        possible_swap_arg = np.argwhere(angsep_longterm < np.sqrt(9.6/np.pi)) \n",
    "        pointing_to_swap = pointings_nextweek[possible_swap_arg,:][0][0] #get pointing to swap\n",
    "        \n",
    "    return pointing_to_swap, min_angsep_lt\n",
    "\n",
    "pointing_to_swap = find_later_pointing(pointings_arr, KN)\n",
    "print pointing_to_swap\n",
    "\n",
    "def cost(pointing_to_swap, closest_obs, original_overhead_time):\n",
    "    #What is the cost in slew time of swapping these pointings?\n",
    "\n",
    "    swap_to_now = SkyCoord(ra=closest_obs[1] * u.degree, dec=closest_obs[2] * u.degree)\n",
    "    swap_to_later = SkyCoord(ra=pointing_to_swap[1] * u.degree, dec=pointing_to_swap[2] * u.degree)\n",
    "    swap_angle = swap_to_now.separation(swap_to_later).deg \n",
    "    const1, const2 = 36/(24*3600.), 2/(24*3600.) #these numbers must be changed\n",
    "    new_overhead_time = const1 + const2*swap_angle\n",
    "    extra_overhead_time = new_overhead_time - original_overhead_time #units of days\n",
    "\n",
    "    return extra_overhead_time\n",
    "\n",
    "#extra_overhead_time = cost(pointing_to_swap, closest_obs, original_overhead_time)"
   ]
  },
  {
   "cell_type": "code",
   "execution_count": 134,
   "metadata": {
    "collapsed": false
   },
   "outputs": [],
   "source": [
    "def swap_obs(pointings_arr, closest_obs, pointing_to_swap, results): #copy pointings arr and swap libid, ra and decl \n",
    "    new_pointings_arr = np.copy(pointings_arr)\n",
    "    \n",
    "    for i in range(len(new_pointings_arr)):\n",
    "        if new_pointings_arr[i,4]==closest_obs[4]:\n",
    "            new_pointings_arr[i,0:3] = pointing_to_swap[0:3]\n",
    "        if new_pointings_arr[i,4]==pointing_to_swap[4]:\n",
    "            new_pointings_arr[i,0:3] = closest_obs[0:3]\n",
    "\n",
    "    return new_pointings_arr, results\n",
    "\n",
    "#new_pointings_arr, results = swap_obs(pointings_arr, closest_obs, pointing_to_swap, results)"
   ]
  },
  {
   "cell_type": "code",
   "execution_count": 93,
   "metadata": {
    "collapsed": false
   },
   "outputs": [
    {
     "name": "stdout",
     "output_type": "stream",
     "text": [
      "True\n"
     ]
    }
   ],
   "source": [
    "\n"
   ]
  }
 ],
 "metadata": {
  "kernelspec": {
   "display_name": "Python 2",
   "language": "python",
   "name": "python2"
  },
  "language_info": {
   "codemirror_mode": {
    "name": "ipython",
    "version": 2
   },
   "file_extension": ".py",
   "mimetype": "text/x-python",
   "name": "python",
   "nbconvert_exporter": "python",
   "pygments_lexer": "ipython2",
   "version": "2.7.11"
  }
 },
 "nbformat": 4,
 "nbformat_minor": 0
}
