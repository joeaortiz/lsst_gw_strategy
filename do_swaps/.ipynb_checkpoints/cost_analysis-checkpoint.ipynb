{
 "cells": [
  {
   "cell_type": "code",
   "execution_count": 2,
   "metadata": {
    "collapsed": true
   },
   "outputs": [],
   "source": [
    "import numpy as np\n",
    "import matplotlib.pylab as plt\n",
    "import os\n",
    "%matplotlib inline\n",
    "\n",
    "os.chdir('/data/des41.a/data/jaortiz/snana-test/')"
   ]
  },
  {
   "cell_type": "code",
   "execution_count": 3,
   "metadata": {
    "collapsed": false,
    "scrolled": true
   },
   "outputs": [
    {
     "name": "stdout",
     "output_type": "stream",
     "text": [
      "t1 =  1\n",
      "[   -13     -1  -2411    -33    -13    -48     -9    -13 -14078      0\n",
      "     -4     -4   -852     -4   -721    -96    -65     -4     -1     -4\n",
      "    -34     -4]\n",
      "[ 7 49  8 60 23 16 14  0 83 17 18 41 46 12 23 27 69  4 77 42 17  3 32 42 52\n",
      "  3  7 13 24 19]\n",
      "[ -4 -29  -4   0  -1  -5 -32 -70  -4  -4   0  -4  -1  -1  -4  -4  -4   0]\n",
      "[27 13 79 91 22  3 75  8 66 30 15 10 90 30 45 14 17 58 58 23 20 71 13  4 13\n",
      "  3 57 13  3 15 32 63 43  4  8 30 25  9 60 13 20  3 89 30  4 16 14 11 26  7\n",
      " 20  5 16  3 11  4 37 22  3]\n",
      "[  -38     0    -2   -26    -4    -1  -121    -4    -1    -7    -4   -53\n",
      "    -4 -2704   -74    -4    -4    -4    -4    -4   -16   -30   -22   -54\n",
      " -4136    -4  -106     0  -105     0    -5    -4    -4    -4     0   -58\n",
      "     0    -5    -5   -37    -4     0    -4  -121   -87 -7194    -4   -34\n",
      "    -1     0 -5415   -21    -4    -4    -4   -13     0    -4    -4     0]\n",
      "[ 21  54   9  23  18  28  40  37  50  35  38   8  53  37  52   4   4  58\n",
      "  40  59 107  56  91   3  70   4  30  68  79  36  53  71  13  33   3  13\n",
      "  50  50   8  76   9  35  53  25   9  98   7  12  23  22   7  28  34  23\n",
      "  27  50  85  12  16  31  51  26  46  96  12 112  13  21  84  32   0   7\n",
      "   4  11  11  57  54 102 112  24   3  31  62  92   3  21  11  35  43   4\n",
      "   3   9  79  24   3   9  11  17 107   4  40 105  22   3   5  92  31   7\n",
      "   4  16   3  11  36  48  22   7  20  93  41  33  19  32  15  54   4  52\n",
      "  27  64  66  43  26   7 106   4  31  22  15  97  83   7]\n",
      "[    -4      0     -4    -63     -4    -68     -4     -4     -4     -9\n",
      "    -62     -1   -117    -50    -21     -1    -89     -4      0     -1\n",
      "    -75     -9     -1      0     -1      0     -6     -4     -1      0\n",
      " -17679    -13      0     -4    -25     -4     -4     -4     -4  -4022\n",
      "      0]\n",
      "[ 49  65  55  24   4  12  13  40   4   7   0  99   4  19  19  46  55  23\n",
      "  16  10  54  78   7  30  78  54  15  30   3   7  40  55  19   3  49  51\n",
      "  67  11   7  42  18  39   7  42  23  42   3  18  42  92  63  65   3  53\n",
      "  26  70  71   3  23  34   9  29   0  86  22  52   4  13  26  13   4  42\n",
      "   7  19  22  23  36   9  32   0  22   8  45   3  79  47  17  49   3  45\n",
      "  22  14   4  12  27  14  39  15  12  18  22  29   3   6  48  13   7  41\n",
      "   4  15  13  20  32  66   9  34  61  11  22  56 107  16  36  64  11  68\n",
      "  15  73   0  18   4  14  27  16  14   9  37  33  85   4   7  41   7  61\n",
      "  22  29   4   8  13  37  75  50  71  20  65   8  36  24   7  19   9  52\n",
      "  69  50  71  39  17  26  47]\n",
      "[    -4     -4    -56    -18     -4    -70     -4     -4    -33     -4\n",
      " -50731 -57322  -4126     -4     -4    -63     -4 -50277 -50239      0\n",
      "     -4     -4    -32     -4   -735    -13     -5   -483     -4    -86\n",
      "     -4     -1    -93    -98    -30     -4     -1     -4     -4     -4\n",
      " -43460    -95   -100   -104   -740 -55579     -5     -4    -54    -36\n",
      "     -4     -4]\n",
      "[ 24  26  71  78   7  36  90   3  48  50  43  82  66  35  46  87  38  79\n",
      "  52  69   7  35  71  43  42  75  89  13  14  58   4   4  63   3  21  13\n",
      "  15  37  52  30  14  78  97  22  67  92  59  11  24  36   9  50   9  46\n",
      "  70  50   5   0  53  48  26  70  28  27  41  54  37 107  30  54  17   7\n",
      "  67  13  36  40  49  49  22  30  16  46  22  57  76   2  91  28  20  54\n",
      "  33   8  33  21  65  84  60  48  45 109  36  12   3  87   3   3  63  40\n",
      "  22   4   4  32  54  71  75  18  34  77  24  72  46   3  16  21  71   4\n",
      "  27  27  13  93  38  58  36  60  43  57   8  58  38  49  69 102   4  48\n",
      "  51  85  36   3  74  67  14  32  26   4  21  20  93   4  43  65   8  11\n",
      "   0  11   3  22 101  23  37  22  34  61  47  66   3  19  20   3 101  11\n",
      "  31  60  36  39  65  24  13  20  47  33  39  79   4   8  31  12  11  24\n",
      "  25  17  46  13  19  64 106  16  12   4  70  11  49  13  59  68  32   8\n",
      "  58  33  40  37  32  31  22   0  55  59   7  11   9   5  34  70  36  87\n",
      "  69   3  71  80  11  29  81  50  80  31  85  32  15  19   6  87  49   4\n",
      "  16  67  69  47  41  56  54   3  15   7   2   2  12  71  30  11  42  86\n",
      "  15  61   3   8  45  75  21  29  27  84  21  13  36  38  17  56  48  20\n",
      "   3  46   7  50  40  30  30  20  47  37  59]\n",
      "[    -9      0     -4     -9     -1     -4     -4 -51769    -22    -16\n",
      "     -1    -42    -56    -95    -75     -4    -63     -4    -18    -10\n",
      "    -42   -970     -4     -1    -18      0     -1     -5 -74048     -4\n",
      "     -1    -13    -24     -4   -105     -1     -4     -4 -56850     -4\n",
      "  -8124    -17    -27    -38 -90568     -4  -4603 -45541     -4    -42\n",
      "     -4  -3972      0    -25]\n",
      "[  3  58  97  28  58  11  51  44  55   7  34   8  10  97  33  69  41  21\n",
      "  51   0   8   3  17  74  77  18   8  24  97  66  21  35   9  48  31  97\n",
      "  48  11  33  57  74  17  44  32  64  27  31   4  76  44  22   3   3  58\n",
      "  48  13  28   3   3  56  40  13  17  32  43  28  18  66  89  21   3  17\n",
      "   7  37  95   3  15  24  65  28  88  46  31  44  69  47  16  96  56  31\n",
      "  92  50  60  87  37   4  67  13  28   9  91  40  11  14  58   0  20  22\n",
      "   3  33  51  43  44  25  35  22  57  17  84   7  24   3  95  88   9  65\n",
      "   3  22  27  68  12  22  24   3  83   8  38   3 101  28  59   9  24  59\n",
      "  11  15   3   3   2   8  51  81  47  43  19  40   3  51  29   4   4   6\n",
      "   8  37  61   7  50   3  81  62  30  20  10  69   3  17   6  59   7  41\n",
      "  57  38  51  12   5   3   9  34  17  13  43  44  18  75  47   0  77  41\n",
      "  69  68 106  45  70  27  19 113  99  45   3  49  66   3  97  79  52   4\n",
      "  40  18  16   8  13  35]\n",
      "[[  1.00000000e+00   2.80000000e+01   2.00000000e+00   7.00000000e+01\n",
      "    2.33900000e-01   1.03000000e-02   0.00000000e+00]\n",
      " [  1.25000000e+00   2.80000000e+01   2.00000000e+00   7.00000000e+01\n",
      "    2.45700000e-01   1.05000000e-02   0.00000000e+00]\n",
      " [  1.50000000e+00   2.80000000e+01   2.00000000e+00   7.00000000e+01\n",
      "    2.48100000e-01   1.05000000e-02   0.00000000e+00]\n",
      " [  1.75000000e+00   2.80000000e+01   2.00000000e+00   7.00000000e+01\n",
      "    2.48100000e-01   1.05000000e-02   0.00000000e+00]\n",
      " [  2.00000000e+00   2.80000000e+01   2.00000000e+00   7.00000000e+01\n",
      "    2.51600000e-01   1.05000000e-02   0.00000000e+00]\n",
      " [  2.25000000e+00   2.80000000e+01   2.00000000e+00   7.00000000e+01\n",
      "    2.42800000e-01   1.04000000e-02   0.00000000e+00]\n",
      " [  2.50000000e+00   2.80000000e+01   2.00000000e+00   7.00000000e+01\n",
      "    2.50400000e-01   1.05000000e-02   0.00000000e+00]\n",
      " [  2.75000000e+00   2.80000000e+01   2.00000000e+00   7.00000000e+01\n",
      "    2.51600000e-01   1.05000000e-02   0.00000000e+00]\n",
      " [  3.00000000e+00   2.80000000e+01   2.00000000e+00   7.00000000e+01\n",
      "    2.41000000e-01   1.04000000e-02   0.00000000e+00]]\n"
     ]
    }
   ],
   "source": [
    "eff = np.array([[1,28,2,70, 0.2339, 0.0103, 0], [1.25,28,2,70,  0.2457, 0.0105, 0],[1.5, 28,2,70,0.2481, 0.0105, 0], \\\n",
    " [1.75, 28,2,70, 0.2481, 0.0105, 0],[2, 28,2,70, 0.2516, 0.0105, 0],[2.25, 28,2,70, 0.2428, 0.0104, 0],\\\n",
    " [2.5, 28,2,70, 0.2504, 0.0105, 0],[2.75,28,2,70,  0.2516, 0.0105, 0],[3,28,2,70, 0.2410, 0.0104, 0]])\n",
    "\n",
    "\n",
    "t1 = [1, 1.25, 1.5, 1.75, 2, 2.5, 2.75, 3]\n",
    "\n",
    "for i, t in enumerate(t1): \n",
    "    folder = 'do_swaps/new_pointings_arrays/' + str(t) + '_28_2_70/'\n",
    "    costs = np.load(folder + 'costs.npy')\n",
    "    #eff[i,3] = np.sum(np.sum(costs))\n",
    "    print 't1 = ', t\n",
    "    tot = 0\n",
    "    for cost in costs:\n",
    "        cost = np.array(cost)\n",
    "        #print len(cost), sum(np.array(cost)<0), sum(cost)\n",
    "        pos = cost[cost>0]*24*3600\n",
    "        neg = cost[cost<0]*24*3600\n",
    "        tot += sum(pos)\n",
    "        #print neg.astype(int)\n",
    "        #print pos.astype(int)\n",
    "        \n",
    "    break\n",
    "    eff[i,3] = tot\n",
    "\n",
    "\n",
    "print eff"
   ]
  },
  {
   "cell_type": "code",
   "execution_count": null,
   "metadata": {
    "collapsed": true
   },
   "outputs": [],
   "source": [
    "#changing slew angle, t1=1, t2=28, maxairmass=2\n",
    "eff_ang = np.array([[1, 28, 2, 30, 0.1998, 0.0097, 0], [1,28,2,50, 0.2186, 0.0100, 0]\\\n",
    "[1,28,2,70, 0.2339, 0.0103, 0], [1,28,2,90, 0.2280, 0.0102, 0], [1,28,2,110, 0.2292, 0.102, 0],\\\n",
    "[1,28,2,130, 0.2292, 0.0102, 0], [1,28,2,150, 0.2292, 0.0102,0], [1,28,2,200, 0.2292,0.0102,0], \\\n",
    "[1,28,2,250,0.2292, 0.0102,0] , [1,28,2,60,0.2292, 0.0102,0] ])"
   ]
  },
  {
   "cell_type": "code",
   "execution_count": 53,
   "metadata": {
    "collapsed": false
   },
   "outputs": [
    {
     "data": {
      "text/plain": [
       "(0.75, 3.25)"
      ]
     },
     "execution_count": 53,
     "metadata": {},
     "output_type": "execute_result"
    },
    {
     "data": {
      "image/png": "[encoded data removed]",
      "text/plain": [
       "<matplotlib.figure.Figure at 0x7fa5089d88d0>"
      ]
     },
     "metadata": {},
     "output_type": "display_data"
    },
    {
     "data": {
      "image/png": "[encoded data removed]",
      "text/plain": [
       "<matplotlib.figure.Figure at 0x7fa508b57350>"
      ]
     },
     "metadata": {},
     "output_type": "display_data"
    }
   ],
   "source": [
    "fig1 = plt.figure(figsize=(12,6))\n",
    "plt.errorbar(eff[:,3], eff[:,1], yerr=eff[:,2], fmt='o')\n",
    "plt.axhline(y=0.1485)\n",
    "plt.xlabel('Cost in slew time of swaps (days)', size=16)\n",
    "plt.ylabel('Fraction of kilonovae detected', size=16)\n",
    "plt.xlim(xmax=0.6)\n",
    "\n",
    "\n",
    "fig2 = plt.figure(figsize=(12,6))\n",
    "plt.errorbar(eff[:,0], eff[:,1], yerr=eff[:,2], fmt='o')\n",
    "plt.axhline(y=0.1485)\n",
    "plt.xlabel('t1 (days)', size=16)\n",
    "plt.ylabel('Fraction of kilonovae detected', size=16)\n",
    "plt.xlim([0.75,3.25])\n",
    "\n",
    "#fig2.savefig('figures/efficiencies')"
   ]
  }
 ],
 "metadata": {
  "kernelspec": {
   "display_name": "Python 2",
   "language": "python",
   "name": "python2"
  },
  "language_info": {
   "codemirror_mode": {
    "name": "ipython",
    "version": 2
   },
   "file_extension": ".py",
   "mimetype": "text/x-python",
   "name": "python",
   "nbconvert_exporter": "python",
   "pygments_lexer": "ipython2",
   "version": "2.7.11"
  }
 },
 "nbformat": 4,
 "nbformat_minor": 0
}
